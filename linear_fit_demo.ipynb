{
 "cells": [
  {
   "cell_type": "markdown",
   "metadata": {},
   "source": [
    "# Linear fit\n",
    "In this notebook, we show how to accomplish a simple linear fit with ntb."
   ]
  },
  {
   "cell_type": "code",
   "execution_count": 1,
   "metadata": {
    "collapsed": true
   },
   "outputs": [],
   "source": [
    "import ntb\n",
    "import numpy as np\n",
    "import matplotlib.pyplot as pp\n",
    "\n",
    "%matplotlib inline"
   ]
  },
  {
   "cell_type": "code",
   "execution_count": 2,
   "metadata": {},
   "outputs": [],
   "source": [
    "#we define a linear function\n",
    "\n",
    "a0,b0 = .3, 1.2\n",
    "x_min, x_max = -5., 5.\n",
    "\n",
    "def f(t):\n",
    "    return t*a0+b0\n",
    "\n",
    "#and create some noisy samples around it\n",
    "\n",
    "x_data = np.random.uniform(size=75,low=x_min,high=x_max)\n",
    "y_data = np.random.normal(loc=f(x_data),scale=.6)\n",
    "x_interval = np.array([x_min,x_max])"
   ]
  },
  {
   "cell_type": "code",
   "execution_count": 3,
   "metadata": {},
   "outputs": [
    {
     "data": {
      "image/png": "[encoded data removed]",
      "text/plain": [
       "<matplotlib.figure.Figure at 0x7f0f4a6d91d0>"
      ]
     },
     "metadata": {},
     "output_type": "display_data"
    }
   ],
   "source": [
    "#a plot of the data and exact mean of the y-distribution depending on x\n",
    "\n",
    "pp.plot(x_data,y_data,'bo',label=\"Sampled data\")\n",
    "pp.plot(x_interval,f(x_interval),label=\"Exact mean\")\n",
    "pp.legend()\n",
    "pp.show()"
   ]
  },
  {
   "cell_type": "code",
   "execution_count": 4,
   "metadata": {},
   "outputs": [],
   "source": [
    "#we start off building a computational graph\n",
    "\n",
    "graph = ntb.ComputationGraph()\n",
    "with ntb.default_graph(graph):\n",
    "    #we add placeholders for the data\n",
    "    x = ntb.Placeholder(shape=[-1])\n",
    "    y = ntb.Placeholder(shape=[-1])\n",
    "    #and learnable variables a,b for the slope and y intercept respectively\n",
    "    a = ntb.Variable()\n",
    "    b = ntb.Variable()\n",
    "    #we define a node for the predicted y-output, given x,a,b\n",
    "    y_pred = a*x + b\n",
    "    #we define the mean square error\n",
    "    mean_square_error = ((y_pred - y)**2).mean()\n",
    "    #and add an optimization node, which when evaluated adjusts all learnable parameters\n",
    "    #to minimize the loss node that was passed to it. we set the learning rate to 1e-1\n",
    "    optim = ntb.Optim(mean_square_error,lr=1e-1)\n",
    "\n",
    "#we define a function for our linear fit, which runs the y_pred node defined above\n",
    "#its argument t is assigned to the placeholder node x\n",
    "def f_fit(t):\n",
    "    pred, = graph.run([y_pred],assign_dict={x:t})\n",
    "    return pred"
   ]
  },
  {
   "cell_type": "code",
   "execution_count": 5,
   "metadata": {},
   "outputs": [
    {
     "name": "stdout",
     "output_type": "stream",
     "text": [
      "MSE: 2.75004264707\n",
      "MSE: 0.873715300508\n",
      "MSE: 0.762342758308\n",
      "MSE: 0.49349335731\n",
      "MSE: 0.462006071443\n",
      "MSE: 0.428178762013\n",
      "MSE: 0.422081342682\n",
      "MSE: 0.418368889679\n",
      "MSE: 0.417407375215\n",
      "MSE: 0.417062662836\n",
      "MSE: 0.416930997041\n"
     ]
    }
   ],
   "source": [
    "iter = 100\n",
    "\n",
    "#we run the mean square error and optimization node for 100 iterations\n",
    "#x and y are assigned our artificial x- and y-data\n",
    "for i in range(iter+1):\n",
    "    #we keep track of the mean squared error and\n",
    "    #ignore the output of optim (which just evaluates to True)\n",
    "    mse,_ = graph.run([mean_square_error,optim],assign_dict={x:x_data,y:y_data})\n",
    "    if (i % 10) == 0:\n",
    "        print(\"MSE:\",mse)"
   ]
  },
  {
   "cell_type": "code",
   "execution_count": 6,
   "metadata": {},
   "outputs": [
    {
     "data": {
      "image/png": "[encoded data removed]",
      "text/plain": [
       "<matplotlib.figure.Figure at 0x7f0f4a5cde80>"
      ]
     },
     "metadata": {},
     "output_type": "display_data"
    }
   ],
   "source": [
    "#we plot the data again, this time adding our linear fit into the mix\n",
    "\n",
    "pp.plot(x_data,y_data,'bo',label=\"Sampled data\")\n",
    "pp.plot(x_data,f(x_data),label=\"True mean\")\n",
    "pp.plot(x_data,f_fit(x_data),label=\"Linear fit\")\n",
    "pp.legend()\n",
    "pp.show()"
   ]
  }
 ],
 "metadata": {
  "kernelspec": {
   "display_name": "Python 3",
   "language": "python",
   "name": "python3"
  },
  "language_info": {
   "codemirror_mode": {
    "name": "ipython",
    "version": 3
   },
   "file_extension": ".py",
   "mimetype": "text/x-python",
   "name": "python",
   "nbconvert_exporter": "python",
   "pygments_lexer": "ipython3",
   "version": "3.6.1"
  }
 },
 "nbformat": 4,
 "nbformat_minor": 2
}
