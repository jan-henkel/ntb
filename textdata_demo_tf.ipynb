{
 "cells": [
  {
   "cell_type": "markdown",
   "metadata": {},
   "source": [
    "<h1>Text data demo (tensorflow version)</h1>\n",
    "Roughly the same as the other RNN notebook, implemented in tensorflow."
   ]
  },
  {
   "cell_type": "code",
   "execution_count": 1,
   "metadata": {
    "collapsed": true
   },
   "outputs": [],
   "source": [
    "from ntb.datasets import textdata\n",
    "import matplotlib.pyplot as pp\n",
    "import numpy as np\n",
    "import tensorflow as tf\n",
    "import tensorflow.contrib\n",
    "%matplotlib inline\n",
    "%reload_ext autoreload"
   ]
  },
  {
   "cell_type": "code",
   "execution_count": 2,
   "metadata": {
    "collapsed": true
   },
   "outputs": [],
   "source": [
    "seq_length = 40"
   ]
  },
  {
   "cell_type": "code",
   "execution_count": 3,
   "metadata": {
    "collapsed": true,
    "scrolled": true
   },
   "outputs": [],
   "source": [
    "text_data,encode,decode = textdata.load(seq_length=seq_length,filename='us_constitution.txt',val_frac=.01,stride=1)"
   ]
  },
  {
   "cell_type": "code",
   "execution_count": 4,
   "metadata": {
    "collapsed": true
   },
   "outputs": [],
   "source": [
    "vocab_length = len(text_data['charmap'])\n",
    "embedding_dim = 32\n",
    "hidden_dim = 72\n",
    "batch_size = 50\n",
    "lstm_layers = 2\n",
    "num_train = len(text_data['X_train'])"
   ]
  },
  {
   "cell_type": "code",
   "execution_count": 5,
   "metadata": {
    "collapsed": true
   },
   "outputs": [],
   "source": [
    "mask_1 = np.repeat(a=(np.arange(seq_length).reshape(1,-1)).astype(np.float32),axis=0,repeats=batch_size)*seq_length/(np.arange(seq_length).sum())\n",
    "mask_2 = np.repeat(a=np.ones([1,seq_length]).astype(np.float32),axis=0,repeats=batch_size)"
   ]
  },
  {
   "cell_type": "code",
   "execution_count": 6,
   "metadata": {
    "collapsed": true
   },
   "outputs": [],
   "source": [
    "g = tf.Graph()\n",
    "sess = tf.InteractiveSession(graph=g,config=tf.ConfigProto(log_device_placement=True))"
   ]
  },
  {
   "cell_type": "code",
   "execution_count": 7,
   "metadata": {
    "collapsed": true
   },
   "outputs": [],
   "source": [
    "with g.as_default():\n",
    "    with tf.variable_scope('input_layer'):\n",
    "        x = tf.placeholder(dtype=tf.int32,shape=[None,seq_length],name=\"x\")\n",
    "        y = tf.placeholder(dtype=tf.int32,shape=[None,seq_length],name=\"y\")\n",
    "        lr = tf.placeholder(dtype=tf.float32,shape=[],name=\"learning_rate\")\n",
    "        loss_mask = tf.placeholder(dtype=tf.float32,shape=[None,seq_length],name=\"loss_mask\")\n",
    "        temp = tf.placeholder(dtype=tf.float32,name=\"temperature\")\n",
    "        keep_prob = tf.placeholder(dtype=tf.float32,name=\"keep_prob\")\n",
    "    if(embedding_dim is not None):\n",
    "        with tf.variable_scope('embedding_layer'):\n",
    "            w_emb = tf.get_variable(dtype=tf.float32,shape=[vocab_length,embedding_dim],name=\"embedding_weights\")\n",
    "        def embed(x):\n",
    "            return tf.nn.embedding_lookup(w_emb,x)\n",
    "    else:\n",
    "        def embed(x):\n",
    "            return tf.one_hot(depth=vocab_length,indices=x)\n",
    "    with tf.variable_scope('embedding_layer'):\n",
    "        x_emb = embed(x)\n",
    "    with tf.variable_scope('lstm_layer') as lstm_scope:\n",
    "        stacked_lstm = tf.contrib.rnn.MultiRNNCell(cells=[tf.contrib.rnn.LayerNormBasicLSTMCell(hidden_dim,dropout_keep_prob=keep_prob) for _ in range(lstm_layers)])\n",
    "        drnn_out,drnn_final_state = tf.nn.dynamic_rnn(cell=stacked_lstm,inputs=x_emb,dtype=tf.float32,scope=\"drnn\")\n",
    "    with tf.variable_scope('output_layer'):\n",
    "        w_out = tf.get_variable(dtype=tf.float32,shape=[hidden_dim,vocab_length],name=\"output_weights\")\n",
    "        b_out = tf.get_variable(dtype=tf.float32,shape=[vocab_length],name=\"output_biases\")\n",
    "        scores = tf.tensordot(drnn_out,w_out,axes=([2],[0]))\n",
    "    with tf.variable_scope('loss'):\n",
    "        loss = tf.reduce_mean(tf.nn.sparse_softmax_cross_entropy_with_logits(labels=y,logits=scores)*loss_mask)\n",
    "        optim = tf.train.AdamOptimizer(learning_rate=lr).minimize(loss)\n",
    "    with tf.variable_scope(lstm_scope) as scope:\n",
    "        counter = tf.constant(value=0,dtype=tf.int32)\n",
    "        sample_length = tf.placeholder(dtype=tf.int32,shape=[],name=\"sample_length\")\n",
    "        x_sample_primer = tf.placeholder(dtype=tf.int64,shape=[1,None],name=\"x_sample_primer\")\n",
    "        x_sample_primer_emb = embed(x_sample_primer)\n",
    "        scope.reuse_variables()\n",
    "        primer_drnn_out,primer_drnn_state = tf.nn.dynamic_rnn(cell=stacked_lstm,inputs=x_sample_primer_emb,dtype=tf.float32,scope=\"drnn\")\n",
    "        primer_scores = tf.matmul(primer_drnn_out[:,-1,:],w_out)\n",
    "        sample = tf.multinomial(primer_scores/temp,1)[0]\n",
    "        samples = tf.TensorArray(dtype=tf.int64,size=sample_length,element_shape=[1],clear_after_read=False)\n",
    "        samples = samples.write(0,sample)\n",
    "        state = primer_drnn_state\n",
    "\n",
    "        def body_(counter,samples,state):\n",
    "            last_sample = samples.read(counter)\n",
    "            last_sample_emb = embed(last_sample)\n",
    "            scope.reuse_variables()\n",
    "            h,new_state = stacked_lstm(inputs=last_sample_emb,state=state,scope=\"drnn/multi_rnn_cell\")\n",
    "            new_scores = tf.matmul(h,w_out)\n",
    "            new_sample = tf.multinomial(new_scores/temp,1)[0]\n",
    "            samples = samples.write(counter+1,new_sample)\n",
    "            return counter+1,samples,new_state\n",
    "        _,sample_out,_ = tf.while_loop(cond=lambda t,*_:t<sample_length-1,body=body_,loop_vars=[counter,samples,state])\n",
    "        sample_out = sample_out.concat()\n",
    "    init = tf.global_variables_initializer()"
   ]
  },
  {
   "cell_type": "code",
   "execution_count": 8,
   "metadata": {
    "collapsed": true
   },
   "outputs": [],
   "source": [
    "sess.run(init)"
   ]
  },
  {
   "cell_type": "code",
   "execution_count": 9,
   "metadata": {
    "collapsed": true
   },
   "outputs": [],
   "source": [
    "def get_batch():\n",
    "    idx = np.random.choice(num_train,batch_size)\n",
    "    return text_data['X_train'][idx],text_data['y_train'][idx]\n",
    "def print_sample(length,temperature=1.,primer=\" \"):\n",
    "    r, = sess.run([sample_out],feed_dict={x_sample_primer:np.array([encode(primer)]),sample_length:length,temp:temperature,keep_prob:1.})\n",
    "    print(decode(r))"
   ]
  },
  {
   "cell_type": "code",
   "execution_count": 10,
   "metadata": {
    "collapsed": true
   },
   "outputs": [],
   "source": [
    "iterations = 15000\n",
    "print_every = 1000\n",
    "def train(iterations=iterations,print_every=print_every,learning_rate=3e-4):\n",
    "    loss_avg = 0\n",
    "    for i in range(iterations+1):\n",
    "        X_batch,y_batch = get_batch()\n",
    "        loss_,_ = sess.run([loss,optim],feed_dict={x:X_batch,y:y_batch,lr:learning_rate,keep_prob:1.,loss_mask:mask_2})\n",
    "        loss_avg += loss_\n",
    "        if i == 0:\n",
    "            loss_avg *= print_every\n",
    "        if (i % print_every) == 0:\n",
    "            loss_avg /= print_every\n",
    "            print(\"Iteration ({}/{})\".format(i,iterations),\"Loss:\",loss_avg,\"\\n\")\n",
    "            print(\"Sample:\\n----------------------------------------\")\n",
    "            print_sample(length=200,temperature=.7,primer=\" \")\n",
    "            print(\"----------------------------------------\\n\")\n",
    "            loss_avg = 0"
   ]
  },
  {
   "cell_type": "code",
   "execution_count": 11,
   "metadata": {
    "scrolled": false
   },
   "outputs": [
    {
     "name": "stdout",
     "output_type": "stream",
     "text": [
      "Iteration (0/15000) Loss: 4.26951026917 \n",
      "\n",
      "Sample:\n",
      "----------------------------------------\n",
      "IdL Kal3ov3)zDdeykfdxe7-vNeabBUDauCV4qB EBe,Sz1tLhn dOTDoexz7cFaBeBnjOs-6dyPh5Q4I,se0bfLpgie,6eo Nzyho-pokbeSl1bc1\n",
      ".GC5Qd,3Lh3lFzbn8QI,1B:ehLp19IkJiD3oe5AL:Se5L3 eacBhoaOV5Nl1Yu\n",
      "qdphModrlSKraS\":j.suaq\n",
      "----------------------------------------\n",
      "\n",
      "Iteration (1000/15000) Loss: 1.21804626286 \n",
      "\n",
      "Sample:\n",
      "----------------------------------------\n",
      "States shall be\n",
      "so constitution; but the Constitution by approved by Representatives in which of them\n",
      "this Concurrence of the United States shall be entitled in the Senate, shall issue.\n",
      "\n",
      "Amendment 21\n",
      "\n",
      "----------------------------------------\n",
      "\n",
      "Iteration (2000/15000) Loss: 0.644254736125 \n",
      "\n",
      "Sample:\n",
      "----------------------------------------\n",
      "from the United States, during their Attendance of President of the United States, shall be appointed to be searched, which shall not be suspended, unless the accused to any person who has held wall o\n",
      "----------------------------------------\n",
      "\n",
      "Iteration (3000/15000) Loss: 0.524513257056 \n",
      "\n",
      "Sample:\n",
      "----------------------------------------\n",
      "to any other Place than three Years, it\n",
      "shall be\n",
      "taken by State of the Government for a reduties thereof, as the obeccunt of the United States, or by Congress;\n",
      "\n",
      "To exercise exiclates shall not be enti\n",
      "----------------------------------------\n",
      "\n",
      "Iteration (4000/15000) Loss: 0.465768947005 \n",
      "\n",
      "Sample:\n",
      "----------------------------------------\n",
      "State on account of sex.\n",
      "\n",
      "Congress shall have power to enforce this article by appropriate\n",
      "legislation.\n",
      "\n",
      "Amendment 25\n",
      "1. In case of the removal\n",
      "of the Senate, by granting Commissions of the\n",
      "consent of\n",
      "----------------------------------------\n",
      "\n",
      "Iteration (5000/15000) Loss: 0.433759750187 \n",
      "\n",
      "Sample:\n",
      "----------------------------------------\n",
      "and all territory subject to the jurisdiction thereof for beverage purposes is hereby prohibited.\n",
      "\n",
      "2. The Congress shall have power to enforce this article by appropriate\n",
      "legislation, they shall not b\n",
      "----------------------------------------\n",
      "\n",
      "Iteration (6000/15000) Loss: 0.413172688395 \n",
      "\n",
      "Sample:\n",
      "----------------------------------------\n",
      "attained to the Agen State shall be subject to the whole number shall be necessary to a choice. And if age in such State, being twenty-one years of age, and citizens of the United States.\"\n",
      "\n",
      "Section 20\n",
      "----------------------------------------\n",
      "\n",
      "Iteration (7000/15000) Loss: 0.397247195691 \n",
      "\n",
      "Sample:\n",
      "----------------------------------------\n",
      "from any State, when elected, be an Inhabitant\n",
      "ofice of\n",
      "any Bill of Debts Commerce with foreign Nations, and among the\n",
      "same State choose the Place of Citizens in the several States and a majority of a\n",
      "----------------------------------------\n",
      "\n",
      "Iteration (8000/15000) Loss: 0.385455974817 \n",
      "\n",
      "Sample:\n",
      "----------------------------------------\n",
      "be elected to the office of the Vice President elect shall then be counted. The Person having the greatest Number of votes as President, or hold any office or from any King, Prince or foreign State.\n",
      "\n",
      "\n",
      "----------------------------------------\n",
      "\n",
      "Iteration (9000/15000) Loss: 0.376365698904 \n",
      "\n",
      "Sample:\n",
      "----------------------------------------\n",
      "Vice President whenever the right of choice shall have devolved upon them, and for the common\n",
      "defence, proceed to exceeding ten dollars for every thirty Thousand, be an Inhabitant of the same State\n",
      "wi\n",
      "----------------------------------------\n",
      "\n",
      "Iteration (10000/15000) Loss: 0.368441307783 \n",
      "\n",
      "Sample:\n",
      "----------------------------------------\n",
      "Class shall be at such\n",
      "Place or Places as the Congress may by law provide,\n",
      "transmit within four days to the President pro tempore of the Senate and the Speaker of the House of Representatives shall\n",
      "co\n",
      "----------------------------------------\n",
      "\n",
      "Iteration (11000/15000) Loss: 0.361017441928 \n",
      "\n",
      "Sample:\n",
      "----------------------------------------\n",
      "or Representative who shall not have attained to the Age of their respective Numbers,\n",
      "which shall be elected, and he shall sign it, but the Congress may with and such Service or Labour may be due.\n",
      "\n",
      "Se\n",
      "----------------------------------------\n",
      "\n",
      "Iteration (12000/15000) Loss: 0.356191917717 \n",
      "\n",
      "Sample:\n",
      "----------------------------------------\n",
      "of the United States shall be apportioned among the several States shall have enuaths or one thousand seven hundred\n",
      "and Eighty seven and of the Laws of their persons, houses, papers, and\n",
      "effects, agai\n",
      "----------------------------------------\n",
      "\n",
      "Iteration (13000/15000) Loss: 0.35228368485 \n",
      "\n",
      "Sample:\n",
      "----------------------------------------\n",
      "by any present, Emolument, Office, or Title, of any kind\n",
      "whatever, from any King, Principal becise and zility, bit no Appris of the United States shall be given by any Regulation therein,\n",
      "be required \n",
      "----------------------------------------\n",
      "\n",
      "Iteration (14000/15000) Loss: 0.347260259688 \n",
      "\n",
      "Sample:\n",
      "----------------------------------------\n",
      "the purposes of the election of President and Vice President elect shall have devolved upon them, and for the case of the death of any of the persons having\n",
      "the highest numbers, and other such Distric\n",
      "----------------------------------------\n",
      "\n",
      "Iteration (15000/15000) Loss: 0.342739703059 \n",
      "\n",
      "Sample:\n",
      "----------------------------------------\n",
      "of the United States of America. He shall hold his Office during the Term of four Years, and been seven Years a Jreatom of the Legislature of the Senate and the\n",
      "Speaker of the House of Representatives\n",
      "----------------------------------------\n",
      "\n"
     ]
    }
   ],
   "source": [
    "train(learning_rate=1e-2,print_every=1000)"
   ]
  },
  {
   "cell_type": "code",
   "execution_count": 43,
   "metadata": {},
   "outputs": [
    {
     "name": "stdout",
     "output_type": "stream",
     "text": [
      "cond Class at the Expiration of the fourth Year, and of the term of the President, the votes shall be taken by\n",
      "states, the House of Representatives shall\n",
      "immediately choose by Ballot the Vice-President, or hold any office, civil or military, under the\n",
      "United States, shall be a Representative who shall not have attained to the Age of thirty\n",
      "Years, and been nine Years a Citizen of the United States, and who\n",
      "shall not, when elected, be an Inhabitant of that State for which he shall be delivered up on Claim\n",
      "of the Peesty in such State, being Citizens of age placanf those presented twice shall be removed from Arrest during the Obligation of Contracts, or grant any\n",
      "Title of Nobility.\n",
      "\n",
      "No State shall, during the Time for which he was elected, as follows:\n",
      "\n",
      "Each State shall\n",
      "in all Cases whatsoever, over such District\n",
      "(not exceeding three on the list of those voted for as\n",
      "President, and such person shall act according to the discipline\n",
      "prescribed by Congress;\n",
      "\n",
      "To exercise exclusive Legislation i\n"
     ]
    }
   ],
   "source": [
    "print_sample(length=1000,primer='The se',temperature=.5)"
   ]
  },
  {
   "cell_type": "code",
   "execution_count": 11,
   "metadata": {
    "collapsed": true
   },
   "outputs": [],
   "source": [
    "saver = tf.train.Saver()"
   ]
  },
  {
   "cell_type": "code",
   "execution_count": 16,
   "metadata": {},
   "outputs": [
    {
     "data": {
      "text/plain": [
       "'./tf_textdata_model'"
      ]
     },
     "execution_count": 16,
     "metadata": {},
     "output_type": "execute_result"
    }
   ],
   "source": [
    "saver.save(sess,'./tf_textdata_model')"
   ]
  },
  {
   "cell_type": "code",
   "execution_count": 13,
   "metadata": {},
   "outputs": [
    {
     "name": "stdout",
     "output_type": "stream",
     "text": [
      "INFO:tensorflow:Restoring parameters from ./tf_textdata_model\n"
     ]
    }
   ],
   "source": [
    "saver.restore(sess,'./tf_textdata_model')"
   ]
  }
 ],
 "metadata": {
  "kernelspec": {
   "display_name": "Python 3",
   "language": "python",
   "name": "python3"
  },
  "language_info": {
   "codemirror_mode": {
    "name": "ipython",
    "version": 3
   },
   "file_extension": ".py",
   "mimetype": "text/x-python",
   "name": "python",
   "nbconvert_exporter": "python",
   "pygments_lexer": "ipython3",
   "version": "3.6.1"
  }
 },
 "nbformat": 4,
 "nbformat_minor": 2
}
